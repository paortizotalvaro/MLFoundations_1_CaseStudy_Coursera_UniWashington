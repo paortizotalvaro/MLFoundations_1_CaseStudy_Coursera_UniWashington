{
 "cells": [
  {
   "cell_type": "code",
   "execution_count": 1,
   "id": "5d614900",
   "metadata": {},
   "outputs": [],
   "source": [
    "# imports"
   ]
  },
  {
   "cell_type": "code",
   "execution_count": 1,
   "id": "b042e5f5",
   "metadata": {},
   "outputs": [],
   "source": [
    "dummy_dict = {'again': 1,\n",
    " 'all': 1,\n",
    " 'hello': 3,\n",
    " 'is': 1,\n",
    " 'python': 2,\n",
    " 'repeating': 1,\n",
    " 'this': 1,\n",
    " 'welcome': 1,\n",
    " 'words': 1}"
   ]
  },
  {
   "cell_type": "markdown",
   "id": "314b9a67",
   "metadata": {},
   "source": [
    "## <center> Get the maximum value in a dict <center>"
   ]
  },
  {
   "cell_type": "markdown",
   "id": "7b854bc9",
   "metadata": {},
   "source": [
    "option 1: using zip"
   ]
  },
  {
   "cell_type": "code",
   "execution_count": 3,
   "id": "3ee99d53",
   "metadata": {},
   "outputs": [
    {
     "data": {
      "text/plain": [
       "(3, 'hello')"
      ]
     },
     "execution_count": 3,
     "metadata": {},
     "output_type": "execute_result"
    }
   ],
   "source": [
    "# option 1: using zip\n",
    "max(zip(dummy_dict.values(), dummy_dict.keys()))"
   ]
  },
  {
   "cell_type": "markdown",
   "id": "abb5e2b7",
   "metadata": {},
   "source": [
    "<br>\n",
    "\n",
    "option 2: using get() in the key"
   ]
  },
  {
   "cell_type": "code",
   "execution_count": 4,
   "id": "2b68b5f9",
   "metadata": {
    "scrolled": true
   },
   "outputs": [
    {
     "data": {
      "text/plain": [
       "'hello'"
      ]
     },
     "execution_count": 4,
     "metadata": {},
     "output_type": "execute_result"
    }
   ],
   "source": [
    "# option 2: using get() in the key\n",
    "max(dummy_dict, key=dummy_dict.get)"
   ]
  },
  {
   "cell_type": "markdown",
   "id": "2394423c",
   "metadata": {},
   "source": [
    "<br>\n",
    "\n",
    "option 3: using a lambda function that gets the value corresponding to each key"
   ]
  },
  {
   "cell_type": "code",
   "execution_count": 5,
   "id": "5f853725",
   "metadata": {
    "scrolled": false
   },
   "outputs": [
    {
     "data": {
      "text/plain": [
       "'hello'"
      ]
     },
     "execution_count": 5,
     "metadata": {},
     "output_type": "execute_result"
    }
   ],
   "source": [
    "# option 3: using a lambda function that gets the value corresponding to each key\n",
    "max(dummy_dict, key=lambda x: dummy_dict[x])"
   ]
  },
  {
   "cell_type": "code",
   "execution_count": 10,
   "id": "fed3c1d4",
   "metadata": {
    "scrolled": true
   },
   "outputs": [
    {
     "data": {
      "text/plain": [
       "'again'"
      ]
     },
     "execution_count": 10,
     "metadata": {},
     "output_type": "execute_result"
    }
   ],
   "source": [
    "min(dummy_dict, key=lambda x: dummy_dict[x])"
   ]
  },
  {
   "cell_type": "code",
   "execution_count": 6,
   "id": "17362592",
   "metadata": {},
   "outputs": [
    {
     "data": {
      "text/plain": [
       "'hello'"
      ]
     },
     "execution_count": 6,
     "metadata": {},
     "output_type": "execute_result"
    }
   ],
   "source": [
    "# option 3a: same as before but making explicit that the lambda is iterating over the keys\n",
    "max(dummy_dict.keys(), key=lambda x: dummy_dict[x])"
   ]
  },
  {
   "cell_type": "code",
   "execution_count": 7,
   "id": "bb61864b",
   "metadata": {},
   "outputs": [
    {
     "ename": "KeyError",
     "evalue": "('again', 1)",
     "output_type": "error",
     "traceback": [
      "\u001b[0;31m---------------------------------------------------------------------------\u001b[0m",
      "\u001b[0;31mKeyError\u001b[0m                                  Traceback (most recent call last)",
      "Input \u001b[0;32mIn [7]\u001b[0m, in \u001b[0;36m<cell line: 3>\u001b[0;34m()\u001b[0m\n\u001b[1;32m      1\u001b[0m \u001b[38;5;66;03m# Note: 3a does not work when using values or items because the dict can only be subscripted by its keys\u001b[39;00m\n\u001b[1;32m      2\u001b[0m \u001b[38;5;66;03m# This gives an error\u001b[39;00m\n\u001b[0;32m----> 3\u001b[0m \u001b[38;5;28;43mmax\u001b[39;49m\u001b[43m(\u001b[49m\u001b[43mdummy_dict\u001b[49m\u001b[38;5;241;43m.\u001b[39;49m\u001b[43mitems\u001b[49m\u001b[43m(\u001b[49m\u001b[43m)\u001b[49m\u001b[43m,\u001b[49m\u001b[43m \u001b[49m\u001b[43mkey\u001b[49m\u001b[38;5;241;43m=\u001b[39;49m\u001b[38;5;28;43;01mlambda\u001b[39;49;00m\u001b[43m \u001b[49m\u001b[43mx\u001b[49m\u001b[43m:\u001b[49m\u001b[43m \u001b[49m\u001b[43mdummy_dict\u001b[49m\u001b[43m[\u001b[49m\u001b[43mx\u001b[49m\u001b[43m]\u001b[49m\u001b[43m)\u001b[49m\n",
      "Input \u001b[0;32mIn [7]\u001b[0m, in \u001b[0;36m<lambda>\u001b[0;34m(x)\u001b[0m\n\u001b[1;32m      1\u001b[0m \u001b[38;5;66;03m# Note: 3a does not work when using values or items because the dict can only be subscripted by its keys\u001b[39;00m\n\u001b[1;32m      2\u001b[0m \u001b[38;5;66;03m# This gives an error\u001b[39;00m\n\u001b[0;32m----> 3\u001b[0m \u001b[38;5;28mmax\u001b[39m(dummy_dict\u001b[38;5;241m.\u001b[39mitems(), key\u001b[38;5;241m=\u001b[39m\u001b[38;5;28;01mlambda\u001b[39;00m x: \u001b[43mdummy_dict\u001b[49m\u001b[43m[\u001b[49m\u001b[43mx\u001b[49m\u001b[43m]\u001b[49m)\n",
      "\u001b[0;31mKeyError\u001b[0m: ('again', 1)"
     ]
    }
   ],
   "source": [
    "# Note: 3a does not work when using values or items because the dict can only be subscripted by its keys\n",
    "# This gives an error\n",
    "max(dummy_dict.items(), key=lambda x: dummy_dict[x])"
   ]
  },
  {
   "cell_type": "markdown",
   "id": "8ffbd23d",
   "metadata": {},
   "source": [
    "<br>\n",
    "\n",
    "option 4: get the items and use a lambda to get the value from each pair in items"
   ]
  },
  {
   "cell_type": "code",
   "execution_count": 2,
   "id": "ceaf94fc",
   "metadata": {},
   "outputs": [
    {
     "data": {
      "text/plain": [
       "('hello', 3)"
      ]
     },
     "execution_count": 2,
     "metadata": {},
     "output_type": "execute_result"
    }
   ],
   "source": [
    "# option 4: get the items and use a lambda to get the value from each pair in items\n",
    "max(dummy_dict.items(),key=lambda x: x[1])"
   ]
  },
  {
   "cell_type": "code",
   "execution_count": 9,
   "id": "32ef8576",
   "metadata": {},
   "outputs": [
    {
     "data": {
      "text/plain": [
       "'python'"
      ]
     },
     "execution_count": 9,
     "metadata": {},
     "output_type": "execute_result"
    }
   ],
   "source": [
    "# Note: using the lambda in opt 4 but getting the keys does not give an error. \n",
    "# It will get the max based on the second letter of the key \n",
    "max(dummy_dict.keys(),key=lambda x: x[1])"
   ]
  },
  {
   "cell_type": "code",
   "execution_count": null,
   "id": "f1d9680f",
   "metadata": {},
   "outputs": [],
   "source": []
  }
 ],
 "metadata": {
  "kernelspec": {
   "display_name": "Python 3 (ipykernel)",
   "language": "python",
   "name": "python3"
  },
  "language_info": {
   "codemirror_mode": {
    "name": "ipython",
    "version": 3
   },
   "file_extension": ".py",
   "mimetype": "text/x-python",
   "name": "python",
   "nbconvert_exporter": "python",
   "pygments_lexer": "ipython3",
   "version": "3.8.10"
  }
 },
 "nbformat": 4,
 "nbformat_minor": 5
}
