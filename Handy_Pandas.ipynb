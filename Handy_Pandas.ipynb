{
 "cells": [
  {
   "cell_type": "code",
   "execution_count": 30,
   "id": "870a995b",
   "metadata": {},
   "outputs": [],
   "source": [
    "import numpy as np\n",
    "import pandas as pd\n",
    "\n",
    "from sklearn.feature_extraction.text import CountVectorizer"
   ]
  },
  {
   "cell_type": "code",
   "execution_count": 2,
   "id": "2f1d941b",
   "metadata": {},
   "outputs": [
    {
     "data": {
      "text/html": [
       "<div>\n",
       "<style scoped>\n",
       "    .dataframe tbody tr th:only-of-type {\n",
       "        vertical-align: middle;\n",
       "    }\n",
       "\n",
       "    .dataframe tbody tr th {\n",
       "        vertical-align: top;\n",
       "    }\n",
       "\n",
       "    .dataframe thead th {\n",
       "        text-align: right;\n",
       "    }\n",
       "</style>\n",
       "<table border=\"1\" class=\"dataframe\">\n",
       "  <thead>\n",
       "    <tr style=\"text-align: right;\">\n",
       "      <th></th>\n",
       "      <th>Person</th>\n",
       "      <th>Age</th>\n",
       "      <th>Single</th>\n",
       "    </tr>\n",
       "  </thead>\n",
       "  <tbody>\n",
       "    <tr>\n",
       "      <th>0</th>\n",
       "      <td>John</td>\n",
       "      <td>24.0</td>\n",
       "      <td>False</td>\n",
       "    </tr>\n",
       "    <tr>\n",
       "      <th>1</th>\n",
       "      <td>Myla</td>\n",
       "      <td>26.0</td>\n",
       "      <td>True</td>\n",
       "    </tr>\n",
       "    <tr>\n",
       "      <th>2</th>\n",
       "      <td>Lewis</td>\n",
       "      <td>NaN</td>\n",
       "      <td>True</td>\n",
       "    </tr>\n",
       "    <tr>\n",
       "      <th>3</th>\n",
       "      <td>John</td>\n",
       "      <td>33.0</td>\n",
       "      <td>False</td>\n",
       "    </tr>\n",
       "    <tr>\n",
       "      <th>4</th>\n",
       "      <td>Myla</td>\n",
       "      <td>26.0</td>\n",
       "      <td>False</td>\n",
       "    </tr>\n",
       "  </tbody>\n",
       "</table>\n",
       "</div>"
      ],
      "text/plain": [
       "  Person   Age  Single\n",
       "0   John  24.0   False\n",
       "1   Myla  26.0    True\n",
       "2  Lewis   NaN    True\n",
       "3   John  33.0   False\n",
       "4   Myla  26.0   False"
      ]
     },
     "execution_count": 2,
     "metadata": {},
     "output_type": "execute_result"
    }
   ],
   "source": [
    "\n",
    "example_df = pd.DataFrame({\"Person\":\n",
    "                   [\"John\", \"Myla\", \"Lewis\", \"John\", \"Myla\"],\n",
    "                   \"Age\": [24., 26, np.nan, 33, 26],\n",
    "                   \"Single\": [False, True, True, False, False]})\n",
    "example_df"
   ]
  },
  {
   "cell_type": "markdown",
   "id": "c1694d3e",
   "metadata": {},
   "source": [
    "## <center> Counting values in a group <center>"
   ]
  },
  {
   "cell_type": "markdown",
   "id": "123db343",
   "metadata": {},
   "source": [
    " Group the data according to one column \n",
    " \n",
    " Count number of values of each column per group: NaN is considered as missing value"
   ]
  },
  {
   "cell_type": "code",
   "execution_count": 3,
   "id": "b43c9805",
   "metadata": {},
   "outputs": [
    {
     "data": {
      "text/html": [
       "<div>\n",
       "<style scoped>\n",
       "    .dataframe tbody tr th:only-of-type {\n",
       "        vertical-align: middle;\n",
       "    }\n",
       "\n",
       "    .dataframe tbody tr th {\n",
       "        vertical-align: top;\n",
       "    }\n",
       "\n",
       "    .dataframe thead th {\n",
       "        text-align: right;\n",
       "    }\n",
       "</style>\n",
       "<table border=\"1\" class=\"dataframe\">\n",
       "  <thead>\n",
       "    <tr style=\"text-align: right;\">\n",
       "      <th></th>\n",
       "      <th>Age</th>\n",
       "      <th>Single</th>\n",
       "    </tr>\n",
       "    <tr>\n",
       "      <th>Person</th>\n",
       "      <th></th>\n",
       "      <th></th>\n",
       "    </tr>\n",
       "  </thead>\n",
       "  <tbody>\n",
       "    <tr>\n",
       "      <th>John</th>\n",
       "      <td>2</td>\n",
       "      <td>2</td>\n",
       "    </tr>\n",
       "    <tr>\n",
       "      <th>Lewis</th>\n",
       "      <td>0</td>\n",
       "      <td>1</td>\n",
       "    </tr>\n",
       "    <tr>\n",
       "      <th>Myla</th>\n",
       "      <td>2</td>\n",
       "      <td>2</td>\n",
       "    </tr>\n",
       "  </tbody>\n",
       "</table>\n",
       "</div>"
      ],
      "text/plain": [
       "        Age  Single\n",
       "Person             \n",
       "John      2       2\n",
       "Lewis     0       1\n",
       "Myla      2       2"
      ]
     },
     "execution_count": 3,
     "metadata": {},
     "output_type": "execute_result"
    }
   ],
   "source": [
    "example_df.groupby('Person').count()"
   ]
  },
  {
   "cell_type": "markdown",
   "id": "4804beb6",
   "metadata": {},
   "source": [
    "Count number of rows in each group (irrespective of whether there are values in the columns or not)"
   ]
  },
  {
   "cell_type": "code",
   "execution_count": 4,
   "id": "736d7adf",
   "metadata": {
    "scrolled": true
   },
   "outputs": [
    {
     "data": {
      "text/plain": [
       "Person\n",
       "John     2\n",
       "Lewis    1\n",
       "Myla     2\n",
       "dtype: int64"
      ]
     },
     "execution_count": 4,
     "metadata": {},
     "output_type": "execute_result"
    }
   ],
   "source": [
    "example_df[['Person']].groupby('Person').value_counts()"
   ]
  },
  {
   "cell_type": "code",
   "execution_count": 5,
   "id": "aab15e5f",
   "metadata": {},
   "outputs": [
    {
     "data": {
      "text/plain": [
       "John     2\n",
       "Myla     2\n",
       "Lewis    1\n",
       "Name: Person, dtype: int64"
      ]
     },
     "execution_count": 5,
     "metadata": {},
     "output_type": "execute_result"
    }
   ],
   "source": [
    "# or also simply\n",
    "example_df['Person'].value_counts()"
   ]
  },
  {
   "cell_type": "code",
   "execution_count": null,
   "id": "33cced63",
   "metadata": {},
   "outputs": [],
   "source": []
  },
  {
   "cell_type": "code",
   "execution_count": 6,
   "id": "f6633f71",
   "metadata": {},
   "outputs": [],
   "source": [
    "import nltk\n",
    "# if it give errors do this\n",
    "# nltk.download('punkt')"
   ]
  },
  {
   "cell_type": "markdown",
   "id": "40a0efd3",
   "metadata": {},
   "source": [
    "## <center> Counting words in a sentence <center>\n"
   ]
  },
  {
   "cell_type": "code",
   "execution_count": 1,
   "id": "412ff7da",
   "metadata": {},
   "outputs": [],
   "source": [
    "gvn_str = \"hello this is Python, welcome all. Hello again. Repeating words: hello , Python\"\n",
    "gvn_str2 = 'second string for the data frame'\n",
    "gvn_str3 = 'this is the third string for the test'"
   ]
  },
  {
   "cell_type": "markdown",
   "id": "b67b04b0",
   "metadata": {},
   "source": [
    "### Count using Counter from collections"
   ]
  },
  {
   "cell_type": "code",
   "execution_count": 8,
   "id": "06887460",
   "metadata": {
    "scrolled": true
   },
   "outputs": [
    {
     "data": {
      "text/plain": [
       "['hello',\n",
       " 'this',\n",
       " 'is',\n",
       " 'Python',\n",
       " ',',\n",
       " 'welcome',\n",
       " 'all',\n",
       " '.',\n",
       " 'Hello',\n",
       " 'again',\n",
       " '.',\n",
       " 'Repeating',\n",
       " 'words',\n",
       " ':',\n",
       " 'hello',\n",
       " ',',\n",
       " 'Python']"
      ]
     },
     "execution_count": 8,
     "metadata": {},
     "output_type": "execute_result"
    }
   ],
   "source": [
    "# this tokenize does basically the same as split() but it works better with punctuation marks\n",
    "from nltk.tokenize import word_tokenize\n",
    "word_tokenize(gvn_str)"
   ]
  },
  {
   "cell_type": "code",
   "execution_count": 9,
   "id": "c6450cdf",
   "metadata": {},
   "outputs": [
    {
     "data": {
      "text/plain": [
       "['hello',\n",
       " 'this',\n",
       " 'is',\n",
       " 'Python,',\n",
       " 'welcome',\n",
       " 'all.',\n",
       " 'Hello',\n",
       " 'again.',\n",
       " 'Repeating',\n",
       " 'words:',\n",
       " 'hello',\n",
       " ',',\n",
       " 'Python']"
      ]
     },
     "execution_count": 9,
     "metadata": {},
     "output_type": "execute_result"
    }
   ],
   "source": [
    "gvn_str.split()"
   ]
  },
  {
   "cell_type": "code",
   "execution_count": 10,
   "id": "4adf69c1",
   "metadata": {},
   "outputs": [
    {
     "data": {
      "text/plain": [
       "Counter({'hello': 2,\n",
       "         'this': 1,\n",
       "         'is': 1,\n",
       "         'Python,': 1,\n",
       "         'welcome': 1,\n",
       "         'all.': 1,\n",
       "         'Hello': 1,\n",
       "         'again.': 1,\n",
       "         'Repeating': 1,\n",
       "         'words:': 1,\n",
       "         ',': 1,\n",
       "         'Python': 1})"
      ]
     },
     "execution_count": 10,
     "metadata": {},
     "output_type": "execute_result"
    }
   ],
   "source": [
    "# After having a list with words to count use Counter from collections\n",
    "\n",
    "from collections import Counter \n",
    "Counter(gvn_str.split())"
   ]
  },
  {
   "cell_type": "code",
   "execution_count": 11,
   "id": "8b57941e",
   "metadata": {},
   "outputs": [
    {
     "data": {
      "text/plain": [
       "Counter({'hello': 2,\n",
       "         'this': 1,\n",
       "         'is': 1,\n",
       "         'Python': 2,\n",
       "         ',': 2,\n",
       "         'welcome': 1,\n",
       "         'all': 1,\n",
       "         '.': 2,\n",
       "         'Hello': 1,\n",
       "         'again': 1,\n",
       "         'Repeating': 1,\n",
       "         'words': 1,\n",
       "         ':': 1})"
      ]
     },
     "execution_count": 11,
     "metadata": {},
     "output_type": "execute_result"
    }
   ],
   "source": [
    "Counter(word_tokenize(gvn_str))"
   ]
  },
  {
   "cell_type": "code",
   "execution_count": 12,
   "id": "9e56d54b",
   "metadata": {},
   "outputs": [
    {
     "data": {
      "text/plain": [
       "Counter({'hello': 3})"
      ]
     },
     "execution_count": 12,
     "metadata": {},
     "output_type": "execute_result"
    }
   ],
   "source": [
    "Counter('hello hello hello'.split())"
   ]
  },
  {
   "cell_type": "markdown",
   "id": "fb9a5ca2",
   "metadata": {},
   "source": [
    "### Count using CountVectorizer from sklearn from a single string"
   ]
  },
  {
   "cell_type": "markdown",
   "id": "b122a318",
   "metadata": {},
   "source": [
    "##### Get matrix"
   ]
  },
  {
   "cell_type": "code",
   "execution_count": 20,
   "id": "fe93793e",
   "metadata": {},
   "outputs": [
    {
     "data": {
      "text/plain": [
       "<1x9 sparse matrix of type '<class 'numpy.int64'>'\n",
       "\twith 9 stored elements in Compressed Sparse Row format>"
      ]
     },
     "execution_count": 20,
     "metadata": {},
     "output_type": "execute_result"
    }
   ],
   "source": [
    "#from sklearn.feature_extraction.text import CountVectorizer\n",
    "vectorizer = CountVectorizer()\n",
    "\n",
    "# if the input is a string then place it between brackets to hanve an iterable\n",
    "matrix = vectorizer.fit_transform([gvn_str])\n",
    "matrix"
   ]
  },
  {
   "cell_type": "markdown",
   "id": "81e718a1",
   "metadata": {},
   "source": [
    "##### Visualize the matrix as a data frame"
   ]
  },
  {
   "cell_type": "code",
   "execution_count": 21,
   "id": "6d80be6d",
   "metadata": {},
   "outputs": [
    {
     "name": "stderr",
     "output_type": "stream",
     "text": [
      "/home/potalvar/.local/lib/python3.8/site-packages/sklearn/utils/deprecation.py:87: FutureWarning: Function get_feature_names is deprecated; get_feature_names is deprecated in 1.0 and will be removed in 1.2. Please use get_feature_names_out instead.\n",
      "  warnings.warn(msg, category=FutureWarning)\n"
     ]
    },
    {
     "data": {
      "text/html": [
       "<div>\n",
       "<style scoped>\n",
       "    .dataframe tbody tr th:only-of-type {\n",
       "        vertical-align: middle;\n",
       "    }\n",
       "\n",
       "    .dataframe tbody tr th {\n",
       "        vertical-align: top;\n",
       "    }\n",
       "\n",
       "    .dataframe thead th {\n",
       "        text-align: right;\n",
       "    }\n",
       "</style>\n",
       "<table border=\"1\" class=\"dataframe\">\n",
       "  <thead>\n",
       "    <tr style=\"text-align: right;\">\n",
       "      <th></th>\n",
       "      <th>again</th>\n",
       "      <th>all</th>\n",
       "      <th>hello</th>\n",
       "      <th>is</th>\n",
       "      <th>python</th>\n",
       "      <th>repeating</th>\n",
       "      <th>this</th>\n",
       "      <th>welcome</th>\n",
       "      <th>words</th>\n",
       "    </tr>\n",
       "  </thead>\n",
       "  <tbody>\n",
       "    <tr>\n",
       "      <th>0</th>\n",
       "      <td>1</td>\n",
       "      <td>1</td>\n",
       "      <td>3</td>\n",
       "      <td>1</td>\n",
       "      <td>2</td>\n",
       "      <td>1</td>\n",
       "      <td>1</td>\n",
       "      <td>1</td>\n",
       "      <td>1</td>\n",
       "    </tr>\n",
       "  </tbody>\n",
       "</table>\n",
       "</div>"
      ],
      "text/plain": [
       "   again  all  hello  is  python  repeating  this  welcome  words\n",
       "0      1    1      3   1       2          1     1        1      1"
      ]
     },
     "execution_count": 21,
     "metadata": {},
     "output_type": "execute_result"
    }
   ],
   "source": [
    "counts_df = pd.DataFrame(matrix.toarray(),\n",
    "                      columns=vectorizer.get_feature_names())\n",
    "counts_df"
   ]
  },
  {
   "cell_type": "markdown",
   "id": "c84bfe15",
   "metadata": {},
   "source": [
    "##### Visualize the matrix as a dict"
   ]
  },
  {
   "cell_type": "markdown",
   "id": "0721f856",
   "metadata": {},
   "source": [
    "_**option 1**: convert to df and then to dict_"
   ]
  },
  {
   "cell_type": "code",
   "execution_count": 27,
   "id": "76a22849",
   "metadata": {},
   "outputs": [
    {
     "name": "stderr",
     "output_type": "stream",
     "text": [
      "/home/potalvar/.local/lib/python3.8/site-packages/sklearn/utils/deprecation.py:87: FutureWarning: Function get_feature_names is deprecated; get_feature_names is deprecated in 1.0 and will be removed in 1.2. Please use get_feature_names_out instead.\n",
      "  warnings.warn(msg, category=FutureWarning)\n"
     ]
    },
    {
     "data": {
      "text/plain": [
       "again        1\n",
       "all          1\n",
       "hello        3\n",
       "is           1\n",
       "python       2\n",
       "repeating    1\n",
       "this         1\n",
       "welcome      1\n",
       "words        1\n",
       "Name: 0, dtype: int64"
      ]
     },
     "execution_count": 27,
     "metadata": {},
     "output_type": "execute_result"
    }
   ],
   "source": [
    "# Visualize the matrix as a dict using to_dict() from the dataframe\n",
    "pd.DataFrame(matrix.toarray(),\n",
    "                      columns=vectorizer.get_feature_names()).iloc[0,:]"
   ]
  },
  {
   "cell_type": "code",
   "execution_count": 26,
   "id": "46629de6",
   "metadata": {
    "scrolled": false
   },
   "outputs": [
    {
     "name": "stderr",
     "output_type": "stream",
     "text": [
      "/home/potalvar/.local/lib/python3.8/site-packages/sklearn/utils/deprecation.py:87: FutureWarning: Function get_feature_names is deprecated; get_feature_names is deprecated in 1.0 and will be removed in 1.2. Please use get_feature_names_out instead.\n",
      "  warnings.warn(msg, category=FutureWarning)\n"
     ]
    },
    {
     "data": {
      "text/plain": [
       "{'again': 1,\n",
       " 'all': 1,\n",
       " 'hello': 3,\n",
       " 'is': 1,\n",
       " 'python': 2,\n",
       " 'repeating': 1,\n",
       " 'this': 1,\n",
       " 'welcome': 1,\n",
       " 'words': 1}"
      ]
     },
     "execution_count": 26,
     "metadata": {},
     "output_type": "execute_result"
    }
   ],
   "source": [
    "pd.DataFrame(matrix.toarray(),\n",
    "                      columns=vectorizer.get_feature_names()).iloc[0,:].to_dict()"
   ]
  },
  {
   "cell_type": "markdown",
   "id": "5b8b6440",
   "metadata": {},
   "source": [
    "_**option 2**: convert directly to dict_"
   ]
  },
  {
   "cell_type": "code",
   "execution_count": 28,
   "id": "b9e2b756",
   "metadata": {},
   "outputs": [
    {
     "data": {
      "text/plain": [
       "array([[1, 1, 3, 1, 2, 1, 1, 1, 1]])"
      ]
     },
     "execution_count": 28,
     "metadata": {},
     "output_type": "execute_result"
    }
   ],
   "source": [
    "# to convert it to dict directly from the matrix\n",
    "# the elements inside the list vectorizer.get_feature_names() have to be taken out of hte tuple\n",
    "# the elements inside matrix.toarray() have to be taken out of the array to access the list: matrix.toarray()[0]\n",
    "matrix.toarray()"
   ]
  },
  {
   "cell_type": "code",
   "execution_count": 29,
   "id": "dc84ae5d",
   "metadata": {},
   "outputs": [
    {
     "data": {
      "text/plain": [
       "[(array([1, 1, 3, 1, 2, 1, 1, 1, 1]), array([1, 1, 3, 1, 2, 1, 1, 1, 1]))]"
      ]
     },
     "execution_count": 29,
     "metadata": {},
     "output_type": "execute_result"
    }
   ],
   "source": [
    "# here it is clear that iterating over matrix.toarray() is not what we need\n",
    "[(x,y) for x,y in zip(matrix.toarray(),matrix.toarray())]"
   ]
  },
  {
   "cell_type": "code",
   "execution_count": 32,
   "id": "ffc23b71",
   "metadata": {},
   "outputs": [
    {
     "data": {
      "text/plain": [
       "{'again': 1,\n",
       " 'all': 1,\n",
       " 'hello': 3,\n",
       " 'is': 1,\n",
       " 'python': 2,\n",
       " 'repeating': 1,\n",
       " 'this': 1,\n",
       " 'welcome': 1,\n",
       " 'words': 1}"
      ]
     },
     "execution_count": 32,
     "metadata": {},
     "output_type": "execute_result"
    }
   ],
   "source": [
    "# we need to iterate over the elements in the list, not over the array\n",
    "# so the dict can be created by:\n",
    "dict(\n",
    "    zip(vectorizer.get_feature_names_out()\n",
    "        , matrix.toarray()[0])\n",
    ")"
   ]
  },
  {
   "cell_type": "code",
   "execution_count": null,
   "id": "c77e3bb0",
   "metadata": {},
   "outputs": [],
   "source": []
  },
  {
   "cell_type": "markdown",
   "id": "ad6ba4eb",
   "metadata": {},
   "source": [
    "### Count using CountVectorizer from sklearn from a column of a data frame"
   ]
  },
  {
   "cell_type": "code",
   "execution_count": 27,
   "id": "f4faa537",
   "metadata": {
    "scrolled": true
   },
   "outputs": [
    {
     "data": {
      "text/html": [
       "<div>\n",
       "<style scoped>\n",
       "    .dataframe tbody tr th:only-of-type {\n",
       "        vertical-align: middle;\n",
       "    }\n",
       "\n",
       "    .dataframe tbody tr th {\n",
       "        vertical-align: top;\n",
       "    }\n",
       "\n",
       "    .dataframe thead th {\n",
       "        text-align: right;\n",
       "    }\n",
       "</style>\n",
       "<table border=\"1\" class=\"dataframe\">\n",
       "  <thead>\n",
       "    <tr style=\"text-align: right;\">\n",
       "      <th></th>\n",
       "      <th>text</th>\n",
       "      <th>id</th>\n",
       "      <th>counter</th>\n",
       "    </tr>\n",
       "  </thead>\n",
       "  <tbody>\n",
       "    <tr>\n",
       "      <th>Text1</th>\n",
       "      <td>hello this is Python, welcome all. Hello again...</td>\n",
       "      <td>t1</td>\n",
       "      <td>1</td>\n",
       "    </tr>\n",
       "    <tr>\n",
       "      <th>Text2</th>\n",
       "      <td>second string for the data frame</td>\n",
       "      <td>t2</td>\n",
       "      <td>2</td>\n",
       "    </tr>\n",
       "    <tr>\n",
       "      <th>Text3</th>\n",
       "      <td>this is the third string for the test</td>\n",
       "      <td>t3</td>\n",
       "      <td>3</td>\n",
       "    </tr>\n",
       "  </tbody>\n",
       "</table>\n",
       "</div>"
      ],
      "text/plain": [
       "                                                    text  id counter\n",
       "Text1  hello this is Python, welcome all. Hello again...  t1       1\n",
       "Text2                   second string for the data frame  t2       2\n",
       "Text3              this is the third string for the test  t3       3"
      ]
     },
     "execution_count": 27,
     "metadata": {},
     "output_type": "execute_result"
    }
   ],
   "source": [
    "# define data frame\n",
    "str_df = pd.DataFrame([[gvn_str,gvn_str2, gvn_str3],['t1','t2','t3'],[1,2,3]]\n",
    "                      , index=['text','id','counter']\n",
    "                      , columns=['Text1', 'Text2', 'Text3']).T\n",
    "str_df"
   ]
  },
  {
   "cell_type": "code",
   "execution_count": 28,
   "id": "39716886",
   "metadata": {},
   "outputs": [
    {
     "data": {
      "text/plain": [
       "<3x17 sparse matrix of type '<class 'numpy.int64'>'\n",
       "\twith 22 stored elements in Compressed Sparse Row format>"
      ]
     },
     "execution_count": 28,
     "metadata": {},
     "output_type": "execute_result"
    }
   ],
   "source": [
    "vectorizer2_df = CountVectorizer()\n",
    "\n",
    "# if the input is a string then place it between brackets to hanve an iterable\n",
    "# .astype('U') is needed to make sure there are no errors with the type\n",
    "matrix2_df = vectorizer2_df.fit_transform(str_df['text'].astype('U'))\n",
    "matrix2_df"
   ]
  },
  {
   "cell_type": "code",
   "execution_count": 29,
   "id": "5328d074",
   "metadata": {},
   "outputs": [
    {
     "name": "stderr",
     "output_type": "stream",
     "text": [
      "/home/potalvar/.local/lib/python3.8/site-packages/sklearn/utils/deprecation.py:87: FutureWarning: Function get_feature_names is deprecated; get_feature_names is deprecated in 1.0 and will be removed in 1.2. Please use get_feature_names_out instead.\n",
      "  warnings.warn(msg, category=FutureWarning)\n"
     ]
    },
    {
     "data": {
      "text/html": [
       "<div>\n",
       "<style scoped>\n",
       "    .dataframe tbody tr th:only-of-type {\n",
       "        vertical-align: middle;\n",
       "    }\n",
       "\n",
       "    .dataframe tbody tr th {\n",
       "        vertical-align: top;\n",
       "    }\n",
       "\n",
       "    .dataframe thead th {\n",
       "        text-align: right;\n",
       "    }\n",
       "</style>\n",
       "<table border=\"1\" class=\"dataframe\">\n",
       "  <thead>\n",
       "    <tr style=\"text-align: right;\">\n",
       "      <th></th>\n",
       "      <th>again</th>\n",
       "      <th>all</th>\n",
       "      <th>data</th>\n",
       "      <th>for</th>\n",
       "      <th>frame</th>\n",
       "      <th>hello</th>\n",
       "      <th>is</th>\n",
       "      <th>python</th>\n",
       "      <th>repeating</th>\n",
       "      <th>second</th>\n",
       "      <th>string</th>\n",
       "      <th>test</th>\n",
       "      <th>the</th>\n",
       "      <th>third</th>\n",
       "      <th>this</th>\n",
       "      <th>welcome</th>\n",
       "      <th>words</th>\n",
       "    </tr>\n",
       "  </thead>\n",
       "  <tbody>\n",
       "    <tr>\n",
       "      <th>0</th>\n",
       "      <td>1</td>\n",
       "      <td>1</td>\n",
       "      <td>0</td>\n",
       "      <td>0</td>\n",
       "      <td>0</td>\n",
       "      <td>3</td>\n",
       "      <td>1</td>\n",
       "      <td>2</td>\n",
       "      <td>1</td>\n",
       "      <td>0</td>\n",
       "      <td>0</td>\n",
       "      <td>0</td>\n",
       "      <td>0</td>\n",
       "      <td>0</td>\n",
       "      <td>1</td>\n",
       "      <td>1</td>\n",
       "      <td>1</td>\n",
       "    </tr>\n",
       "    <tr>\n",
       "      <th>1</th>\n",
       "      <td>0</td>\n",
       "      <td>0</td>\n",
       "      <td>1</td>\n",
       "      <td>1</td>\n",
       "      <td>1</td>\n",
       "      <td>0</td>\n",
       "      <td>0</td>\n",
       "      <td>0</td>\n",
       "      <td>0</td>\n",
       "      <td>1</td>\n",
       "      <td>1</td>\n",
       "      <td>0</td>\n",
       "      <td>1</td>\n",
       "      <td>0</td>\n",
       "      <td>0</td>\n",
       "      <td>0</td>\n",
       "      <td>0</td>\n",
       "    </tr>\n",
       "    <tr>\n",
       "      <th>2</th>\n",
       "      <td>0</td>\n",
       "      <td>0</td>\n",
       "      <td>0</td>\n",
       "      <td>1</td>\n",
       "      <td>0</td>\n",
       "      <td>0</td>\n",
       "      <td>1</td>\n",
       "      <td>0</td>\n",
       "      <td>0</td>\n",
       "      <td>0</td>\n",
       "      <td>1</td>\n",
       "      <td>1</td>\n",
       "      <td>2</td>\n",
       "      <td>1</td>\n",
       "      <td>1</td>\n",
       "      <td>0</td>\n",
       "      <td>0</td>\n",
       "    </tr>\n",
       "  </tbody>\n",
       "</table>\n",
       "</div>"
      ],
      "text/plain": [
       "   again  all  data  for  frame  hello  is  python  repeating  second  string  \\\n",
       "0      1    1     0    0      0      3   1       2          1       0       0   \n",
       "1      0    0     1    1      1      0   0       0          0       1       1   \n",
       "2      0    0     0    1      0      0   1       0          0       0       1   \n",
       "\n",
       "   test  the  third  this  welcome  words  \n",
       "0     0    0      0     1        1      1  \n",
       "1     0    1      0     0        0      0  \n",
       "2     1    2      1     1        0      0  "
      ]
     },
     "execution_count": 29,
     "metadata": {},
     "output_type": "execute_result"
    }
   ],
   "source": [
    "counts2_df = pd.DataFrame(matrix2_df.toarray(),\n",
    "                      columns=vectorizer2_df.get_feature_names_out())\n",
    "counts2_df"
   ]
  },
  {
   "cell_type": "code",
   "execution_count": null,
   "id": "f3bd482c",
   "metadata": {},
   "outputs": [],
   "source": []
  },
  {
   "cell_type": "markdown",
   "id": "d2631490",
   "metadata": {},
   "source": [
    "# <center> Sort data frame based on a row <center>"
   ]
  },
  {
   "cell_type": "code",
   "execution_count": 34,
   "id": "31368d73",
   "metadata": {},
   "outputs": [
    {
     "data": {
      "text/html": [
       "<div>\n",
       "<style scoped>\n",
       "    .dataframe tbody tr th:only-of-type {\n",
       "        vertical-align: middle;\n",
       "    }\n",
       "\n",
       "    .dataframe tbody tr th {\n",
       "        vertical-align: top;\n",
       "    }\n",
       "\n",
       "    .dataframe thead th {\n",
       "        text-align: right;\n",
       "    }\n",
       "</style>\n",
       "<table border=\"1\" class=\"dataframe\">\n",
       "  <thead>\n",
       "    <tr style=\"text-align: right;\">\n",
       "      <th></th>\n",
       "      <th>data</th>\n",
       "      <th>for</th>\n",
       "      <th>frame</th>\n",
       "      <th>third</th>\n",
       "      <th>the</th>\n",
       "      <th>test</th>\n",
       "      <th>string</th>\n",
       "      <th>second</th>\n",
       "      <th>again</th>\n",
       "      <th>this</th>\n",
       "      <th>repeating</th>\n",
       "      <th>is</th>\n",
       "      <th>all</th>\n",
       "      <th>welcome</th>\n",
       "      <th>words</th>\n",
       "      <th>python</th>\n",
       "      <th>hello</th>\n",
       "    </tr>\n",
       "  </thead>\n",
       "  <tbody>\n",
       "    <tr>\n",
       "      <th>0</th>\n",
       "      <td>0</td>\n",
       "      <td>0</td>\n",
       "      <td>0</td>\n",
       "      <td>0</td>\n",
       "      <td>0</td>\n",
       "      <td>0</td>\n",
       "      <td>0</td>\n",
       "      <td>0</td>\n",
       "      <td>1</td>\n",
       "      <td>1</td>\n",
       "      <td>1</td>\n",
       "      <td>1</td>\n",
       "      <td>1</td>\n",
       "      <td>1</td>\n",
       "      <td>1</td>\n",
       "      <td>2</td>\n",
       "      <td>3</td>\n",
       "    </tr>\n",
       "    <tr>\n",
       "      <th>1</th>\n",
       "      <td>1</td>\n",
       "      <td>1</td>\n",
       "      <td>1</td>\n",
       "      <td>0</td>\n",
       "      <td>1</td>\n",
       "      <td>0</td>\n",
       "      <td>1</td>\n",
       "      <td>1</td>\n",
       "      <td>0</td>\n",
       "      <td>0</td>\n",
       "      <td>0</td>\n",
       "      <td>0</td>\n",
       "      <td>0</td>\n",
       "      <td>0</td>\n",
       "      <td>0</td>\n",
       "      <td>0</td>\n",
       "      <td>0</td>\n",
       "    </tr>\n",
       "    <tr>\n",
       "      <th>2</th>\n",
       "      <td>0</td>\n",
       "      <td>1</td>\n",
       "      <td>0</td>\n",
       "      <td>1</td>\n",
       "      <td>2</td>\n",
       "      <td>1</td>\n",
       "      <td>1</td>\n",
       "      <td>0</td>\n",
       "      <td>0</td>\n",
       "      <td>1</td>\n",
       "      <td>0</td>\n",
       "      <td>1</td>\n",
       "      <td>0</td>\n",
       "      <td>0</td>\n",
       "      <td>0</td>\n",
       "      <td>0</td>\n",
       "      <td>0</td>\n",
       "    </tr>\n",
       "  </tbody>\n",
       "</table>\n",
       "</div>"
      ],
      "text/plain": [
       "   data  for  frame  third  the  test  string  second  again  this  repeating  \\\n",
       "0     0    0      0      0    0     0       0       0      1     1          1   \n",
       "1     1    1      1      0    1     0       1       1      0     0          0   \n",
       "2     0    1      0      1    2     1       1       0      0     1          0   \n",
       "\n",
       "   is  all  welcome  words  python  hello  \n",
       "0   1    1        1      1       2      3  \n",
       "1   0    0        0      0       0      0  \n",
       "2   1    0        0      0       0      0  "
      ]
     },
     "execution_count": 34,
     "metadata": {},
     "output_type": "execute_result"
    }
   ],
   "source": [
    "counts2_df.sort_values(by=0, axis=1)"
   ]
  },
  {
   "cell_type": "code",
   "execution_count": 36,
   "id": "dad31582",
   "metadata": {},
   "outputs": [
    {
     "data": {
      "text/html": [
       "<div>\n",
       "<style scoped>\n",
       "    .dataframe tbody tr th:only-of-type {\n",
       "        vertical-align: middle;\n",
       "    }\n",
       "\n",
       "    .dataframe tbody tr th {\n",
       "        vertical-align: top;\n",
       "    }\n",
       "\n",
       "    .dataframe thead th {\n",
       "        text-align: right;\n",
       "    }\n",
       "</style>\n",
       "<table border=\"1\" class=\"dataframe\">\n",
       "  <thead>\n",
       "    <tr style=\"text-align: right;\">\n",
       "      <th></th>\n",
       "      <th>again</th>\n",
       "      <th>this</th>\n",
       "      <th>third</th>\n",
       "      <th>test</th>\n",
       "      <th>welcome</th>\n",
       "      <th>python</th>\n",
       "      <th>repeating</th>\n",
       "      <th>hello</th>\n",
       "      <th>all</th>\n",
       "      <th>is</th>\n",
       "      <th>words</th>\n",
       "      <th>frame</th>\n",
       "      <th>second</th>\n",
       "      <th>string</th>\n",
       "      <th>for</th>\n",
       "      <th>the</th>\n",
       "      <th>data</th>\n",
       "    </tr>\n",
       "  </thead>\n",
       "  <tbody>\n",
       "    <tr>\n",
       "      <th>0</th>\n",
       "      <td>1</td>\n",
       "      <td>1</td>\n",
       "      <td>0</td>\n",
       "      <td>0</td>\n",
       "      <td>1</td>\n",
       "      <td>2</td>\n",
       "      <td>1</td>\n",
       "      <td>3</td>\n",
       "      <td>1</td>\n",
       "      <td>1</td>\n",
       "      <td>1</td>\n",
       "      <td>0</td>\n",
       "      <td>0</td>\n",
       "      <td>0</td>\n",
       "      <td>0</td>\n",
       "      <td>0</td>\n",
       "      <td>0</td>\n",
       "    </tr>\n",
       "    <tr>\n",
       "      <th>1</th>\n",
       "      <td>0</td>\n",
       "      <td>0</td>\n",
       "      <td>0</td>\n",
       "      <td>0</td>\n",
       "      <td>0</td>\n",
       "      <td>0</td>\n",
       "      <td>0</td>\n",
       "      <td>0</td>\n",
       "      <td>0</td>\n",
       "      <td>0</td>\n",
       "      <td>0</td>\n",
       "      <td>1</td>\n",
       "      <td>1</td>\n",
       "      <td>1</td>\n",
       "      <td>1</td>\n",
       "      <td>1</td>\n",
       "      <td>1</td>\n",
       "    </tr>\n",
       "    <tr>\n",
       "      <th>2</th>\n",
       "      <td>0</td>\n",
       "      <td>1</td>\n",
       "      <td>1</td>\n",
       "      <td>1</td>\n",
       "      <td>0</td>\n",
       "      <td>0</td>\n",
       "      <td>0</td>\n",
       "      <td>0</td>\n",
       "      <td>0</td>\n",
       "      <td>1</td>\n",
       "      <td>0</td>\n",
       "      <td>0</td>\n",
       "      <td>0</td>\n",
       "      <td>1</td>\n",
       "      <td>1</td>\n",
       "      <td>2</td>\n",
       "      <td>0</td>\n",
       "    </tr>\n",
       "  </tbody>\n",
       "</table>\n",
       "</div>"
      ],
      "text/plain": [
       "   again  this  third  test  welcome  python  repeating  hello  all  is  \\\n",
       "0      1     1      0     0        1       2          1      3    1   1   \n",
       "1      0     0      0     0        0       0          0      0    0   0   \n",
       "2      0     1      1     1        0       0          0      0    0   1   \n",
       "\n",
       "   words  frame  second  string  for  the  data  \n",
       "0      1      0       0       0    0    0     0  \n",
       "1      0      1       1       1    1    1     1  \n",
       "2      0      0       0       1    1    2     0  "
      ]
     },
     "execution_count": 36,
     "metadata": {},
     "output_type": "execute_result"
    }
   ],
   "source": [
    "counts2_df.sort_values(by=1, axis=1)"
   ]
  },
  {
   "cell_type": "code",
   "execution_count": 37,
   "id": "0e2b726f",
   "metadata": {},
   "outputs": [
    {
     "data": {
      "text/html": [
       "<div>\n",
       "<style scoped>\n",
       "    .dataframe tbody tr th:only-of-type {\n",
       "        vertical-align: middle;\n",
       "    }\n",
       "\n",
       "    .dataframe tbody tr th {\n",
       "        vertical-align: top;\n",
       "    }\n",
       "\n",
       "    .dataframe thead th {\n",
       "        text-align: right;\n",
       "    }\n",
       "</style>\n",
       "<table border=\"1\" class=\"dataframe\">\n",
       "  <thead>\n",
       "    <tr style=\"text-align: right;\">\n",
       "      <th></th>\n",
       "      <th>again</th>\n",
       "      <th>second</th>\n",
       "      <th>welcome</th>\n",
       "      <th>python</th>\n",
       "      <th>hello</th>\n",
       "      <th>repeating</th>\n",
       "      <th>data</th>\n",
       "      <th>all</th>\n",
       "      <th>frame</th>\n",
       "      <th>words</th>\n",
       "      <th>is</th>\n",
       "      <th>for</th>\n",
       "      <th>string</th>\n",
       "      <th>test</th>\n",
       "      <th>third</th>\n",
       "      <th>this</th>\n",
       "      <th>the</th>\n",
       "    </tr>\n",
       "  </thead>\n",
       "  <tbody>\n",
       "    <tr>\n",
       "      <th>0</th>\n",
       "      <td>1</td>\n",
       "      <td>0</td>\n",
       "      <td>1</td>\n",
       "      <td>2</td>\n",
       "      <td>3</td>\n",
       "      <td>1</td>\n",
       "      <td>0</td>\n",
       "      <td>1</td>\n",
       "      <td>0</td>\n",
       "      <td>1</td>\n",
       "      <td>1</td>\n",
       "      <td>0</td>\n",
       "      <td>0</td>\n",
       "      <td>0</td>\n",
       "      <td>0</td>\n",
       "      <td>1</td>\n",
       "      <td>0</td>\n",
       "    </tr>\n",
       "    <tr>\n",
       "      <th>1</th>\n",
       "      <td>0</td>\n",
       "      <td>1</td>\n",
       "      <td>0</td>\n",
       "      <td>0</td>\n",
       "      <td>0</td>\n",
       "      <td>0</td>\n",
       "      <td>1</td>\n",
       "      <td>0</td>\n",
       "      <td>1</td>\n",
       "      <td>0</td>\n",
       "      <td>0</td>\n",
       "      <td>1</td>\n",
       "      <td>1</td>\n",
       "      <td>0</td>\n",
       "      <td>0</td>\n",
       "      <td>0</td>\n",
       "      <td>1</td>\n",
       "    </tr>\n",
       "    <tr>\n",
       "      <th>2</th>\n",
       "      <td>0</td>\n",
       "      <td>0</td>\n",
       "      <td>0</td>\n",
       "      <td>0</td>\n",
       "      <td>0</td>\n",
       "      <td>0</td>\n",
       "      <td>0</td>\n",
       "      <td>0</td>\n",
       "      <td>0</td>\n",
       "      <td>0</td>\n",
       "      <td>1</td>\n",
       "      <td>1</td>\n",
       "      <td>1</td>\n",
       "      <td>1</td>\n",
       "      <td>1</td>\n",
       "      <td>1</td>\n",
       "      <td>2</td>\n",
       "    </tr>\n",
       "  </tbody>\n",
       "</table>\n",
       "</div>"
      ],
      "text/plain": [
       "   again  second  welcome  python  hello  repeating  data  all  frame  words  \\\n",
       "0      1       0        1       2      3          1     0    1      0      1   \n",
       "1      0       1        0       0      0          0     1    0      1      0   \n",
       "2      0       0        0       0      0          0     0    0      0      0   \n",
       "\n",
       "   is  for  string  test  third  this  the  \n",
       "0   1    0       0     0      0     1    0  \n",
       "1   0    1       1     0      0     0    1  \n",
       "2   1    1       1     1      1     1    2  "
      ]
     },
     "execution_count": 37,
     "metadata": {},
     "output_type": "execute_result"
    }
   ],
   "source": [
    "counts2_df.sort_values(by=2, axis=1)"
   ]
  },
  {
   "cell_type": "markdown",
   "id": "51a693af",
   "metadata": {},
   "source": [
    "<br>\n",
    "\n",
    "__comparing performance with other options__"
   ]
  },
  {
   "cell_type": "code",
   "execution_count": 39,
   "id": "95b9a8f7",
   "metadata": {},
   "outputs": [
    {
     "name": "stdout",
     "output_type": "stream",
     "text": [
      "154 µs ± 2.08 µs per loop (mean ± std. dev. of 7 runs, 10,000 loops each)\n"
     ]
    }
   ],
   "source": [
    "%timeit counts2_df.sort_values(by=0, axis=1)"
   ]
  },
  {
   "cell_type": "code",
   "execution_count": 42,
   "id": "5e315c6c",
   "metadata": {},
   "outputs": [
    {
     "name": "stdout",
     "output_type": "stream",
     "text": [
      "270 µs ± 7.35 µs per loop (mean ± std. dev. of 7 runs, 1,000 loops each)\n"
     ]
    }
   ],
   "source": [
    "# np.argsort returns the indices one would use to sort the row with index 0,\n",
    "%timeit counts2_df.iloc[:, np.argsort(counts2_df.loc[0])]"
   ]
  },
  {
   "cell_type": "code",
   "execution_count": 1,
   "id": "87e4dcac",
   "metadata": {},
   "outputs": [
    {
     "ename": "NameError",
     "evalue": "name 'free' is not defined",
     "output_type": "error",
     "traceback": [
      "\u001b[0;31m---------------------------------------------------------------------------\u001b[0m",
      "\u001b[0;31mNameError\u001b[0m                                 Traceback (most recent call last)",
      "Input \u001b[0;32mIn [1]\u001b[0m, in \u001b[0;36m<cell line: 1>\u001b[0;34m()\u001b[0m\n\u001b[0;32m----> 1\u001b[0m \u001b[43mfree\u001b[49m \u001b[38;5;241m-\u001b[39mh\n",
      "\u001b[0;31mNameError\u001b[0m: name 'free' is not defined"
     ]
    }
   ],
   "source": [
    "free -h"
   ]
  },
  {
   "cell_type": "code",
   "execution_count": null,
   "id": "5cfae14f",
   "metadata": {},
   "outputs": [],
   "source": []
  }
 ],
 "metadata": {
  "kernelspec": {
   "display_name": "Python 3 (ipykernel)",
   "language": "python",
   "name": "python3"
  },
  "language_info": {
   "codemirror_mode": {
    "name": "ipython",
    "version": 3
   },
   "file_extension": ".py",
   "mimetype": "text/x-python",
   "name": "python",
   "nbconvert_exporter": "python",
   "pygments_lexer": "ipython3",
   "version": "3.8.10"
  }
 },
 "nbformat": 4,
 "nbformat_minor": 5
}
