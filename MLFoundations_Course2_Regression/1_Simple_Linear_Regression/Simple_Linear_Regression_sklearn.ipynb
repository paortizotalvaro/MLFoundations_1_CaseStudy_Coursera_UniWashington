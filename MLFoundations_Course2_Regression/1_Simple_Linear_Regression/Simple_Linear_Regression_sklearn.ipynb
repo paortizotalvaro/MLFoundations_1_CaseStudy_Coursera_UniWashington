{
 "cells": [
  {
   "cell_type": "markdown",
   "id": "7139c91f",
   "metadata": {},
   "source": [
    "<h1> <center> Simple Linear Regression Model on Housing Data  </h1> <center>\n",
    "    <h2> Using scikit-learn </h2>\n",
    "    \n",
    "Source: [ML: Regression, Washington University-Coursera](https://www.coursera.org/learn/ml-regression/supplement/z0Uef/fitting-a-simple-linear-regression-model-on-housing-data)\n",
    "    \n",
    "  "
   ]
  },
  {
   "cell_type": "code",
   "execution_count": 2,
   "id": "0c99853f",
   "metadata": {},
   "outputs": [],
   "source": [
    "import pandas as pd"
   ]
  },
  {
   "cell_type": "markdown",
   "id": "bdcfde8c",
   "metadata": {},
   "source": [
    "# <center> Load and Explore Data <center>"
   ]
  },
  {
   "cell_type": "markdown",
   "id": "459ddc21",
   "metadata": {},
   "source": [
    "### <center>Load house sales data <center>"
   ]
  },
  {
   "cell_type": "code",
   "execution_count": 3,
   "id": "99a521d4",
   "metadata": {},
   "outputs": [],
   "source": [
    "houses_df = pd.read_csv('../data/kc_house_data.csv')\n",
    "train_df = pd.read_csv('../data/kc_house_train_data.csv')\n",
    "test_df = pd.read_csv('../data/kc_house_test_data.csv')"
   ]
  },
  {
   "cell_type": "code",
   "execution_count": 4,
   "id": "90010229",
   "metadata": {},
   "outputs": [
    {
     "data": {
      "text/html": [
       "<div>\n",
       "<style scoped>\n",
       "    .dataframe tbody tr th:only-of-type {\n",
       "        vertical-align: middle;\n",
       "    }\n",
       "\n",
       "    .dataframe tbody tr th {\n",
       "        vertical-align: top;\n",
       "    }\n",
       "\n",
       "    .dataframe thead th {\n",
       "        text-align: right;\n",
       "    }\n",
       "</style>\n",
       "<table border=\"1\" class=\"dataframe\">\n",
       "  <thead>\n",
       "    <tr style=\"text-align: right;\">\n",
       "      <th></th>\n",
       "      <th>id</th>\n",
       "      <th>date</th>\n",
       "      <th>price</th>\n",
       "      <th>bedrooms</th>\n",
       "      <th>bathrooms</th>\n",
       "      <th>sqft_living</th>\n",
       "      <th>sqft_lot</th>\n",
       "      <th>floors</th>\n",
       "      <th>waterfront</th>\n",
       "      <th>view</th>\n",
       "      <th>...</th>\n",
       "      <th>grade</th>\n",
       "      <th>sqft_above</th>\n",
       "      <th>sqft_basement</th>\n",
       "      <th>yr_built</th>\n",
       "      <th>yr_renovated</th>\n",
       "      <th>zipcode</th>\n",
       "      <th>lat</th>\n",
       "      <th>long</th>\n",
       "      <th>sqft_living15</th>\n",
       "      <th>sqft_lot15</th>\n",
       "    </tr>\n",
       "  </thead>\n",
       "  <tbody>\n",
       "    <tr>\n",
       "      <th>0</th>\n",
       "      <td>7129300520</td>\n",
       "      <td>20141013T000000</td>\n",
       "      <td>221900.0</td>\n",
       "      <td>3</td>\n",
       "      <td>1.00</td>\n",
       "      <td>1180</td>\n",
       "      <td>5650</td>\n",
       "      <td>1.0</td>\n",
       "      <td>0</td>\n",
       "      <td>0</td>\n",
       "      <td>...</td>\n",
       "      <td>7</td>\n",
       "      <td>1180</td>\n",
       "      <td>0</td>\n",
       "      <td>1955</td>\n",
       "      <td>0</td>\n",
       "      <td>98178</td>\n",
       "      <td>47.5112</td>\n",
       "      <td>-122.257</td>\n",
       "      <td>1340</td>\n",
       "      <td>5650</td>\n",
       "    </tr>\n",
       "    <tr>\n",
       "      <th>1</th>\n",
       "      <td>6414100192</td>\n",
       "      <td>20141209T000000</td>\n",
       "      <td>538000.0</td>\n",
       "      <td>3</td>\n",
       "      <td>2.25</td>\n",
       "      <td>2570</td>\n",
       "      <td>7242</td>\n",
       "      <td>2.0</td>\n",
       "      <td>0</td>\n",
       "      <td>0</td>\n",
       "      <td>...</td>\n",
       "      <td>7</td>\n",
       "      <td>2170</td>\n",
       "      <td>400</td>\n",
       "      <td>1951</td>\n",
       "      <td>1991</td>\n",
       "      <td>98125</td>\n",
       "      <td>47.7210</td>\n",
       "      <td>-122.319</td>\n",
       "      <td>1690</td>\n",
       "      <td>7639</td>\n",
       "    </tr>\n",
       "    <tr>\n",
       "      <th>2</th>\n",
       "      <td>5631500400</td>\n",
       "      <td>20150225T000000</td>\n",
       "      <td>180000.0</td>\n",
       "      <td>2</td>\n",
       "      <td>1.00</td>\n",
       "      <td>770</td>\n",
       "      <td>10000</td>\n",
       "      <td>1.0</td>\n",
       "      <td>0</td>\n",
       "      <td>0</td>\n",
       "      <td>...</td>\n",
       "      <td>6</td>\n",
       "      <td>770</td>\n",
       "      <td>0</td>\n",
       "      <td>1933</td>\n",
       "      <td>0</td>\n",
       "      <td>98028</td>\n",
       "      <td>47.7379</td>\n",
       "      <td>-122.233</td>\n",
       "      <td>2720</td>\n",
       "      <td>8062</td>\n",
       "    </tr>\n",
       "    <tr>\n",
       "      <th>3</th>\n",
       "      <td>2487200875</td>\n",
       "      <td>20141209T000000</td>\n",
       "      <td>604000.0</td>\n",
       "      <td>4</td>\n",
       "      <td>3.00</td>\n",
       "      <td>1960</td>\n",
       "      <td>5000</td>\n",
       "      <td>1.0</td>\n",
       "      <td>0</td>\n",
       "      <td>0</td>\n",
       "      <td>...</td>\n",
       "      <td>7</td>\n",
       "      <td>1050</td>\n",
       "      <td>910</td>\n",
       "      <td>1965</td>\n",
       "      <td>0</td>\n",
       "      <td>98136</td>\n",
       "      <td>47.5208</td>\n",
       "      <td>-122.393</td>\n",
       "      <td>1360</td>\n",
       "      <td>5000</td>\n",
       "    </tr>\n",
       "    <tr>\n",
       "      <th>4</th>\n",
       "      <td>1954400510</td>\n",
       "      <td>20150218T000000</td>\n",
       "      <td>510000.0</td>\n",
       "      <td>3</td>\n",
       "      <td>2.00</td>\n",
       "      <td>1680</td>\n",
       "      <td>8080</td>\n",
       "      <td>1.0</td>\n",
       "      <td>0</td>\n",
       "      <td>0</td>\n",
       "      <td>...</td>\n",
       "      <td>8</td>\n",
       "      <td>1680</td>\n",
       "      <td>0</td>\n",
       "      <td>1987</td>\n",
       "      <td>0</td>\n",
       "      <td>98074</td>\n",
       "      <td>47.6168</td>\n",
       "      <td>-122.045</td>\n",
       "      <td>1800</td>\n",
       "      <td>7503</td>\n",
       "    </tr>\n",
       "  </tbody>\n",
       "</table>\n",
       "<p>5 rows × 21 columns</p>\n",
       "</div>"
      ],
      "text/plain": [
       "           id             date     price  bedrooms  bathrooms  sqft_living  \\\n",
       "0  7129300520  20141013T000000  221900.0         3       1.00         1180   \n",
       "1  6414100192  20141209T000000  538000.0         3       2.25         2570   \n",
       "2  5631500400  20150225T000000  180000.0         2       1.00          770   \n",
       "3  2487200875  20141209T000000  604000.0         4       3.00         1960   \n",
       "4  1954400510  20150218T000000  510000.0         3       2.00         1680   \n",
       "\n",
       "   sqft_lot  floors  waterfront  view  ...  grade  sqft_above  sqft_basement  \\\n",
       "0      5650     1.0           0     0  ...      7        1180              0   \n",
       "1      7242     2.0           0     0  ...      7        2170            400   \n",
       "2     10000     1.0           0     0  ...      6         770              0   \n",
       "3      5000     1.0           0     0  ...      7        1050            910   \n",
       "4      8080     1.0           0     0  ...      8        1680              0   \n",
       "\n",
       "   yr_built  yr_renovated  zipcode      lat     long  sqft_living15  \\\n",
       "0      1955             0    98178  47.5112 -122.257           1340   \n",
       "1      1951          1991    98125  47.7210 -122.319           1690   \n",
       "2      1933             0    98028  47.7379 -122.233           2720   \n",
       "3      1965             0    98136  47.5208 -122.393           1360   \n",
       "4      1987             0    98074  47.6168 -122.045           1800   \n",
       "\n",
       "   sqft_lot15  \n",
       "0        5650  \n",
       "1        7639  \n",
       "2        8062  \n",
       "3        5000  \n",
       "4        7503  \n",
       "\n",
       "[5 rows x 21 columns]"
      ]
     },
     "execution_count": 4,
     "metadata": {},
     "output_type": "execute_result"
    }
   ],
   "source": [
    "train_df.head(5)"
   ]
  },
  {
   "cell_type": "markdown",
   "id": "88158281",
   "metadata": {},
   "source": [
    "<br>\n",
    "<br>\n",
    "\n",
    "# <center> Build Close Form Solution <center>"
   ]
  },
  {
   "cell_type": "markdown",
   "id": "f4ca6863",
   "metadata": {},
   "source": [
    "The closed form equations:\n",
    "\n",
    "* the slope requires these two terms: <br>\n",
    "\n",
    "    numerator = (sum of X* Y) - (1/N)* ((sum of X) * (sum of Y)) <br> \n",
    "    denominator = (sum of X^2) - (1/N)*((sum of X) * (sum of X))\n",
    "\n",
    "    slope = numerator/denominator\n",
    "\n",
    "\n",
    "* And for the intercept:\n",
    "\n",
    "    intercept = (sum of Y)\\*(1/N) - slope * ((sum of X)*\\(1/N)\n"
   ]
  },
  {
   "cell_type": "markdown",
   "id": "316a9b23",
   "metadata": {},
   "source": [
    "<br> \n",
    "\n",
    "__First doing it manually__  <br>\n",
    "Compute the average of the house prices"
   ]
  },
  {
   "cell_type": "code",
   "execution_count": 4,
   "id": "76cd0a06",
   "metadata": {},
   "outputs": [
    {
     "data": {
      "text/plain": [
       "540088.1417665294"
      ]
     },
     "execution_count": 4,
     "metadata": {},
     "output_type": "execute_result"
    }
   ],
   "source": [
    "# for the whole set\n",
    "sum_prices = houses_df['price'].sum()\n",
    "\n",
    "average = sum_prices/len(houses_df['price'])\n",
    "average"
   ]
  },
  {
   "cell_type": "code",
   "execution_count": 5,
   "id": "d4011375",
   "metadata": {},
   "outputs": [
    {
     "data": {
      "text/plain": [
       "9376349460.0"
      ]
     },
     "execution_count": 5,
     "metadata": {},
     "output_type": "execute_result"
    }
   ],
   "source": [
    "# only train set\n",
    "train_df['price'].sum() #/ len(train_df['price'])"
   ]
  },
  {
   "cell_type": "code",
   "execution_count": 6,
   "id": "6dc73f98",
   "metadata": {},
   "outputs": [
    {
     "data": {
      "text/plain": [
       "36159233"
      ]
     },
     "execution_count": 6,
     "metadata": {},
     "output_type": "execute_result"
    }
   ],
   "source": [
    "train_df['sqft_living'].sum() #/ len(train_df['sqft_living'])"
   ]
  },
  {
   "cell_type": "markdown",
   "id": "5b231c4c",
   "metadata": {},
   "source": [
    "Compute the sum of squares of the prices"
   ]
  },
  {
   "cell_type": "code",
   "execution_count": 7,
   "id": "6abfc5d6",
   "metadata": {},
   "outputs": [
    {
     "data": {
      "text/plain": [
       "7433051852335772.0"
      ]
     },
     "execution_count": 7,
     "metadata": {},
     "output_type": "execute_result"
    }
   ],
   "source": [
    "(train_df['price']*train_df['price']).sum()"
   ]
  },
  {
   "cell_type": "code",
   "execution_count": 8,
   "id": "d3aa4439",
   "metadata": {},
   "outputs": [
    {
     "data": {
      "text/plain": [
       "89977452623"
      ]
     },
     "execution_count": 8,
     "metadata": {},
     "output_type": "execute_result"
    }
   ],
   "source": [
    "(train_df['sqft_living'] * train_df['sqft_living']).sum()"
   ]
  },
  {
   "cell_type": "markdown",
   "id": "c5b10fb9",
   "metadata": {},
   "source": [
    "<br>\n",
    "\n",
    "__Now with a function__"
   ]
  },
  {
   "cell_type": "code",
   "execution_count": 9,
   "id": "399aa013",
   "metadata": {},
   "outputs": [],
   "source": [
    "def simple_linear_regression(input_feature, output):\n",
    "    \n",
    "    #both should be the same lenght so calculating it only once from one of them\n",
    "    N = len(input_feature)\n",
    "    \n",
    "    # compute the sum of input_feature and output: terms (sum of X) and (sum of Y)\n",
    "    x_sum = input_feature.sum()\n",
    "    y_sum = output.sum()\n",
    "    \n",
    "    # compute the product of the output and the input_feature and its sum (sum of X* Y)\n",
    "    x_y_sum = (input_feature * output).sum()\n",
    "    \n",
    "    # compute the squared value of the input_feature and its sum\n",
    "    x_x_sum = (input_feature * input_feature).sum()\n",
    "    \n",
    "    # use the formula for the slope\n",
    "    numerator = x_y_sum - ((x_sum)*(y_sum)/N)\n",
    "    denominator = x_x_sum - ((x_sum)*(x_sum)/N)\n",
    "    slope = numerator / denominator\n",
    "    \n",
    "    # use the formula for the intercept\n",
    "    # intercept = (sum of Y)*(1/N) - slope * ((sum of X)*(1/N)\n",
    "    intercept = (y_sum/N) - (slope * x_sum / N)\n",
    "    \n",
    "    return (intercept, slope)\n"
   ]
  },
  {
   "cell_type": "code",
   "execution_count": 10,
   "id": "f1919142",
   "metadata": {},
   "outputs": [
    {
     "data": {
      "text/plain": [
       "(-47116.07907289418, 281.9588396303426)"
      ]
     },
     "execution_count": 10,
     "metadata": {},
     "output_type": "execute_result"
    }
   ],
   "source": [
    "squarefeet_intercept, squarfeet_slope = simple_linear_regression(train_df['sqft_living'],train_df['price'])\n",
    "squarefeet_intercept, squarfeet_slope"
   ]
  },
  {
   "cell_type": "markdown",
   "id": "a9b71446",
   "metadata": {},
   "source": [
    "<br>\n",
    "\n",
    " Using your Slope and Intercept from (4), What is the predicted price for a house with 2650 sqft?"
   ]
  },
  {
   "cell_type": "code",
   "execution_count": 11,
   "id": "db3db8d3",
   "metadata": {},
   "outputs": [
    {
     "data": {
      "text/plain": [
       "700074.8459475137"
      ]
     },
     "execution_count": 11,
     "metadata": {},
     "output_type": "execute_result"
    }
   ],
   "source": [
    "y = 2650\n",
    "y_at_2650 = squarefeet_intercept + squarfeet_slope * y\n",
    "y_at_2650"
   ]
  },
  {
   "cell_type": "code",
   "execution_count": 15,
   "id": "a50ec389",
   "metadata": {},
   "outputs": [
    {
     "data": {
      "text/plain": [
       "1.2019183563219678"
      ]
     },
     "execution_count": 15,
     "metadata": {},
     "output_type": "execute_result"
    }
   ],
   "source": [
    "1201918356321967.8/10**15"
   ]
  },
  {
   "cell_type": "code",
   "execution_count": 17,
   "id": "4b4a127e",
   "metadata": {},
   "outputs": [
    {
     "data": {
      "text/plain": [
       "1201918356321967.8"
      ]
     },
     "execution_count": 17,
     "metadata": {},
     "output_type": "execute_result"
    }
   ],
   "source": [
    "1.2019183563219678*10**15"
   ]
  },
  {
   "cell_type": "code",
   "execution_count": 18,
   "id": "ae43a3be",
   "metadata": {},
   "outputs": [
    {
     "data": {
      "text/plain": [
       "-217961646621146.66"
      ]
     },
     "execution_count": 18,
     "metadata": {},
     "output_type": "execute_result"
    }
   ],
   "source": [
    "275402936247141.4 - 493364582868288.06"
   ]
  },
  {
   "cell_type": "code",
   "execution_count": null,
   "id": "f6967d61",
   "metadata": {},
   "outputs": [],
   "source": []
  }
 ],
 "metadata": {
  "kernelspec": {
   "display_name": "Python 3 (ipykernel)",
   "language": "python",
   "name": "python3"
  },
  "language_info": {
   "codemirror_mode": {
    "name": "ipython",
    "version": 3
   },
   "file_extension": ".py",
   "mimetype": "text/x-python",
   "name": "python",
   "nbconvert_exporter": "python",
   "pygments_lexer": "ipython3",
   "version": "3.8.10"
  }
 },
 "nbformat": 4,
 "nbformat_minor": 5
}
